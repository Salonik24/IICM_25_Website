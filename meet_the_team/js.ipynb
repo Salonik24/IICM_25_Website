{
 "cells": [
  {
   "cell_type": "code",
   "execution_count": null,
   "id": "48a58fab",
   "metadata": {},
   "outputs": [],
   "source": [
    "const teamMembers = [\n",
    "  { name: 'Aarav Sharma', role: 'Event Coordinator', image: 'https://randomuser.me/api/portraits/men/32.jpg' },\n",
    "  { name: 'Diya Patel', role: 'Web Developer', image: 'https://randomuser.me/api/portraits/women/44.jpg' },\n",
    "  { name: 'Rohan Gupta', role: 'Design Lead', image: 'https://randomuser.me/api/portraits/men/52.jpg' },\n",
    "  { name: 'Ananya Singh', role: 'Marketing Head', image: 'https://randomuser.me/api/portraits/women/68.jpg' },\n",
    "  { name: 'Vikram Reddy', role: 'Technical Lead', image: 'https://randomuser.me/api/portraits/men/75.jpg' },\n",
    "  { name: 'Priya Mehta', role: 'Content Manager', image: 'https://randomuser.me/api/portraits/women/89.jpg' },\n",
    "  { name: 'Arjun Nair', role: 'Logistics Manager', image: 'https://randomuser.me/api/portraits/men/18.jpg' },\n",
    "  { name: 'Ishita Verma', role: 'Social Media Lead', image: 'https://randomuser.me/api/portraits/women/25.jpg' }\n",
    "];\n",
    "\n",
    "function createTeamCard(member) {\n",
    "  return `\n",
    "    <div class=\"team-card\">\n",
    "      <div class=\"team-image-wrapper\">\n",
    "        <img src=\"${member.image}\" alt=\"${member.name}\" class=\"team-image\" />\n",
    "      </div>\n",
    "      <h3 class=\"team-name\">${member.name}</h3>\n",
    "      <p class=\"team-role\">${member.role}</p>\n",
    "    </div>\n",
    "  `;\n",
    "}\n",
    "\n",
    "function renderTeamSection() {\n",
    "  const teamCardsHTML = teamMembers.map(createTeamCard).join('');\n",
    "  return `\n",
    "    <section class=\"team-section\">\n",
    "      <div class=\"team-header\">\n",
    "        <h1>Meet the Team</h1>\n",
    "        <p>The passionate individuals driving Inter IIT Cultural Meet 8.0</p>\n",
    "      </div>\n",
    "      <div class=\"team-grid\">${teamCardsHTML}</div>\n",
    "      <footer class=\"team-footer\">\n",
    "        <p>&copy; 2025 Inter IIT Cultural Meet 8.0 | IIT Kanpur</p>\n",
    "      </footer>\n",
    "    </section>\n",
    "  `;\n",
    "}\n",
    "\n",
    "document.querySelector('#app').innerHTML = renderTeamSection();\n"
   ]
  }
 ],
 "metadata": {
  "language_info": {
   "name": "python"
  }
 },
 "nbformat": 4,
 "nbformat_minor": 5
}
